{
 "cells": [
  {
   "cell_type": "code",
   "execution_count": null,
   "metadata": {},
   "outputs": [],
   "source": [
    "import pandas as pd\n",
    "import numpy as np"
   ]
  },
  {
   "cell_type": "code",
   "execution_count": null,
   "metadata": {},
   "outputs": [],
   "source": [
    "import pandas as pd\n",
    "import matplotlib.pyplot as plt"
   ]
  },
  {
   "cell_type": "code",
   "execution_count": null,
   "metadata": {},
   "outputs": [],
   "source": [
    "data_mahasiswa = {\n",
    "    \"Fakultas\": [\"Bisnis\", \"D3 Perhotelan\", \"ICT\", \"Ilmu Komunikasi\", \"Seni dan Desain\"],\n",
    "    \"Jumlah Mahasiswa\": [260, 28, 284, 465, 735],\n",
    "    \"Akreditasi\": [\"A\", \"A\", \"B\", \"A\", \"A\"]\n",
    "}\n",
    "\n",
    "df = pd.DataFrame(data_mahasiswa)"
   ]
  },
  {
   "cell_type": "code",
   "execution_count": null,
   "metadata": {},
   "outputs": [],
   "source": [
    "plt.figure(figsize=(10, 6))\n",
    "\n",
    "plt.bar(df['Fakultas'], df['Jumlah Mahasiswa'], color=df['Fakultas'].map({\n",
    "    \"Bisnis\": \"blue\",\n",
    "    \"D3 Perhotelan\": \"green\",\n",
    "    \"ICT\": \"red\",\n",
    "    \"Ilmu Komunikasi\": \"purple\",\n",
    "    \"Seni dan Desain\": \"orange\"\n",
    "}))\n",
    "\n",
    "plt.xlabel(\"Fakultas\")\n",
    "plt.ylabel(\"Jumlah Mahasiswa\")\n",
    "plt.title(\"Jumlah Mahasiswa Per Fakultas\")\n",
    "plt.xticks(rotation=45, ha=\"right\")\n",
    "\n",
    "plt.tight_layout()\n",
    "plt.show()"
   ]
  }
 ],
 "metadata": {
  "kernelspec": {
   "display_name": "Python 3",
   "language": "python",
   "name": "python3"
  },
  "language_info": {
   "name": "python",
   "version": "3.11.9"
  }
 },
 "nbformat": 4,
 "nbformat_minor": 2
}
